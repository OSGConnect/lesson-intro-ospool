{
 "cells": [
  {
   "cell_type": "markdown",
   "id": "68ca615e-b992-488b-954f-07d2205e2628",
   "metadata": {},
   "source": [
    "# Getting Started"
   ]
  },
  {
   "cell_type": "markdown",
   "id": "b22765e0-065e-45e5-b4ed-8fe69959939b",
   "metadata": {},
   "source": [
    "To understand the principles of job submission to the Open Science Pool.\n",
    "\n",
    "\n",
    "## Learning Outcomes:\n",
    "* Visualize distributed computing on the Open Science Pool\n",
    "* Distinguish High Performance Computing (HPC) vs. High Throughput Computing (HTC)\n",
    "* Identify ideal jobs to run on the Open Science Pool\n",
    "* Identify the basic elements of an HTCondor submit file\n"
   ]
  },
  {
   "cell_type": "markdown",
   "id": "388fdff9-94e5-4b81-b5e5-60808dcd775b",
   "metadata": {},
   "source": [
    "----\n",
    "\n",
    "[Next Lesson: Introduction to the OSPool](01-Introduction-to-OSPool.ipynb)"
   ]
  }
 ],
 "metadata": {
  "kernelspec": {
   "display_name": "Bash",
   "language": "bash",
   "name": "bash"
  },
  "language_info": {
   "codemirror_mode": "shell",
   "file_extension": ".sh",
   "mimetype": "text/x-sh",
   "name": "bash"
  }
 },
 "nbformat": 4,
 "nbformat_minor": 5
}
