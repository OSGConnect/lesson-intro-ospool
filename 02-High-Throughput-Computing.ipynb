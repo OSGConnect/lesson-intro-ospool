{
 "cells": [
  {
   "cell_type": "markdown",
   "id": "6730741c-ca76-43d0-95f9-95be2460f72e",
   "metadata": {},
   "source": [
    "# High Throughput Computing\n",
    "\n",
    "OSG Services like the OSPool are designed to support a type of computing approach called high throughput computing. What is this approach and would it work for you? "
   ]
  },
  {
   "cell_type": "markdown",
   "id": "5f984d64-3a2a-4006-8626-e252b7798967",
   "metadata": {},
   "source": [
    "## Solving Computing Problems\n",
    "\n",
    "How do you solve a big computational problem? E.g.\n",
    "* Lots of data\n",
    "* Thousands of parameters\n",
    "* Many grid points \n",
    "\n",
    "![problem](images/02-00-problem.png)\n",
    "\n",
    "To solve a big problem, use more computers.\n",
    "\n",
    "![solution](images/02-10-solution.png)\n",
    "\n",
    "There are different ways to do this: \n",
    "* High throughput computing\n",
    "* High performance computing\n",
    "\n",
    "We're going to focus on high throughput computing. \n",
    "\n",
    "## High Throughput Computing\n",
    "\n",
    "In high throughput computing, sub-problems are separate and self-contained with their own input and output. They can be run on many computers. It's very scalable and doesn't require any special programming. \n",
    "\n",
    "![diagram](images/02-20-htc-diagram.png)\n",
    "\n",
    "One of our favorite HTC examples: baking the world’s largest/longest cake\n",
    "\n",
    "![cake](images/02-25-cake.avif)\n",
    "\n",
    "In computational terms: solving a big problem (the world’s longest cake) by executing many small, self-contained tasks (individual cakes) and joining them.\n",
    "\n",
    "### HTC on the Open Science Pool \n",
    "\n",
    "The OSPool is a good fit for HTC workloads that can be distributed and open: \n",
    "\n",
    "* Jobs are short/resumable\n",
    "    * Because the OSPool backfills other resources, interruptions are possible.  \n",
    "* Jobs have a laptop-sized resource profile \n",
    "    * Best for numerous jobs of one (or few) CPUs and <16GB memory, each. \n",
    "* Individual jobs need/produce less than 20GB of data\n",
    "    * Because OSPool resources are distributed across the US (and world) it can be prohibitive for individual jobs that need more than ~20GB of data.\n",
    "* Jobs software and data can be ‘open’\n",
    "    * Open-source software (no restrictive licensing), unrestricted data (no HIPAA, etc.)\n",
    "\n",
    "What workloads are good for the OSPool*?\n",
    "\n",
    "![table](images/02-30-table.png)\n",
    "\n",
    "The “less-so, but maybe” column could still be an HTC workload, but one that would run more effectively on a local, dedicated HTC system instead of the OSPool\n",
    "\n",
    "### HTC Examples\n",
    "\n",
    "Could your research be run in an HTC way? Here are a few examples of domains who have \"HTC\" problems: \n",
    "\n",
    "![htc-research](images/02-40-htc-research.png)\n",
    "\n",
    "If you want to learn more about how research has taken advantage of an HTC approach check out the following talks: \n",
    "\n",
    "* Researcher talks at 2020 OSG All Hands Meeting\n",
    "    * https://indico.fnal.gov/event/22127/timetable/#20200831.detailed \n",
    "* Researcher talks at 2019 OSG User School\n",
    "    * https://opensciencegrid.org/user-school-2019/#materials/\n",
    "* Researcher talks at 2019 OSG All Hands Meeting\n",
    "    * https://indico.cern.ch/event/759388/timetable/#20190319.detailed "
   ]
  },
  {
   "cell_type": "markdown",
   "id": "f3c67177-0ecf-4961-819a-338acd9f2e11",
   "metadata": {},
   "source": [
    "---\n",
    "\n",
    "[Next Lesson: Using the OSPool](03-Using-the-OSPool.ipynb)"
   ]
  },
  {
   "cell_type": "code",
   "execution_count": null,
   "id": "43227d91-3808-447b-96dd-34525197f571",
   "metadata": {},
   "outputs": [],
   "source": []
  }
 ],
 "metadata": {
  "kernelspec": {
   "display_name": "Bash",
   "language": "bash",
   "name": "bash"
  },
  "language_info": {
   "codemirror_mode": "shell",
   "file_extension": ".sh",
   "mimetype": "text/x-sh",
   "name": "bash"
  }
 },
 "nbformat": 4,
 "nbformat_minor": 5
}
