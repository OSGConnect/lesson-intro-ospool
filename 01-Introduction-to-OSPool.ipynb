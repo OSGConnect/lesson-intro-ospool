{
 "cells": [
  {
   "cell_type": "markdown",
   "id": "6730741c-ca76-43d0-95f9-95be2460f72e",
   "metadata": {},
   "source": [
    "# Introduction to the OSG and Open Science Pool"
   ]
  },
  {
   "cell_type": "markdown",
   "id": "5f984d64-3a2a-4006-8626-e252b7798967",
   "metadata": {},
   "source": [
    "## What is the OSG? \n",
    "\n",
    "The **OSG Consortium** builds and operates a **set of pools of shared computing and data capacity for distributed high-throughput computing (dHTC).**\n",
    "\n",
    "![display](images/01-10-OSG-map.png)\n",
    "\n",
    "## OSG Services\n",
    "\n",
    "* [Open Science Pool (OSPool)](https://osg-htc.org/services/open_science_pool.html): \n",
    "    * National resource of computing capacity for high throughput workloads\n",
    "* [OSG-operated Access Points](https://osg-htc.org/services/access-point.html): \n",
    "    * OSG-operated service to submit jobs to the OSPool**\n",
    "* [Open Science Data Federation (OSDF)](https://osg-htc.org/services/osdf.html): \n",
    "    * Network of data origins (file servers) and caches for data accessibility\n",
    "\n",
    "![services](images/01-20-OSG-features.png)\n",
    "\n",
    "\n",
    "### The Open Science Pool\n",
    "\n",
    "One of these pools, the **Open Science Pool (OSPool)** is operated for all US-associated open science.\n",
    "\n",
    "![ospool](images/01-30-OSPool-diagram.png)\n",
    "\n",
    "### OSG Size and Scale\n",
    "\n",
    "Last 12 months: 109M jobs - 2.6B compute hours\n",
    "\n",
    "![stats](images/01-40-OSG-stats.png)"
   ]
  },
  {
   "cell_type": "markdown",
   "id": "f3c67177-0ecf-4961-819a-338acd9f2e11",
   "metadata": {},
   "source": [
    "---\n",
    "\n",
    "[Next Lesson: High Throughput Computing](02-High-Throughput-Computing.ipynb)"
   ]
  },
  {
   "cell_type": "code",
   "execution_count": null,
   "id": "ce0aa33d-194a-46cc-9cda-748e208572fc",
   "metadata": {},
   "outputs": [],
   "source": []
  }
 ],
 "metadata": {
  "kernelspec": {
   "display_name": "Bash",
   "language": "bash",
   "name": "bash"
  },
  "language_info": {
   "codemirror_mode": "shell",
   "file_extension": ".sh",
   "mimetype": "text/x-sh",
   "name": "bash"
  }
 },
 "nbformat": 4,
 "nbformat_minor": 5
}
