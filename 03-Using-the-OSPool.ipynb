{
 "cells": [
  {
   "cell_type": "markdown",
   "id": "6730741c-ca76-43d0-95f9-95be2460f72e",
   "metadata": {},
   "source": [
    "# Using the OSPool \n"
   ]
  },
  {
   "cell_type": "markdown",
   "id": "5f984d64-3a2a-4006-8626-e252b7798967",
   "metadata": {},
   "source": [
    "## How It Works\n",
    "\n",
    "![login](images/03-10-login.png)\n",
    "![files](images/03-11-file.png)\n",
    "![submit](images/03-12-submit.png)\n",
    "![run](images/03-13-run.png)\n",
    "\n",
    "## HTCondor Job Flow\n",
    "\n",
    "![flow1](images/03-20-jobflow1.png)\n",
    "![flow2](images/03-21-jobflow1.png)\n",
    "![flow3](images/03-22-jobflow1.png)\n",
    "![flow4](images/03-23-jobflow1.png)\n",
    "![flow5](images/03-24-jobflow1.png)\n",
    "\n"
   ]
  },
  {
   "cell_type": "markdown",
   "id": "f3c67177-0ecf-4961-819a-338acd9f2e11",
   "metadata": {},
   "source": [
    "---\n",
    "\n",
    "[Next Lesson: Submitting Research Jobs on the OSPool](04-Submit-Research-Jobs.ipynb)"
   ]
  },
  {
   "cell_type": "code",
   "execution_count": null,
   "id": "474b5232-d5a2-4d70-b615-d708e0c121a9",
   "metadata": {},
   "outputs": [],
   "source": []
  }
 ],
 "metadata": {
  "kernelspec": {
   "display_name": "Bash",
   "language": "bash",
   "name": "bash"
  },
  "language_info": {
   "codemirror_mode": "shell",
   "file_extension": ".sh",
   "mimetype": "text/x-sh",
   "name": "bash"
  }
 },
 "nbformat": 4,
 "nbformat_minor": 5
}
