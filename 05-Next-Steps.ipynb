{
 "cells": [
  {
   "cell_type": "markdown",
   "id": "6730741c-ca76-43d0-95f9-95be2460f72e",
   "metadata": {},
   "source": [
    "# Next Steps\n",
    "\n",
    "## Get a Full Account\n",
    "\n",
    "* Can continue to test-drive simple jobs using Jupyter and the guest access we used today. \n",
    "* Request a full account by following the instructions on this page: https://portal.osg-htc.org/application\n",
    "* Gives you access to a full Access Point, persistent (but not backed up!) home directory, all the compute capacity of the OSPool, a data origin and space for larger data files. \n",
    "\n",
    "## Research Computing Facilitators are Here to Help!\n",
    "\n",
    "* Email: support@osg-htc.org\n",
    "* Office Hours: \n",
    "    * Tues/Thurs, contact us for zoom link ([Help Page](https://portal.osg-htc.org/documentation/support_and_training/support/getting-help-from-RCFs/))\n",
    "* Training Opportunities: \n",
    "    * 3rd Tuesday of the month ([Training Page](https://portal.osg-htc.org/documentation/support_and_training/training/osgusertraining/))\n",
    "* Guides: https://portal.osg-htc.org/documentation/ \n",
    "\n",
    "\n",
    "![facilitators](images/05-10-rcfs.png)\n"
   ]
  },
  {
   "cell_type": "code",
   "execution_count": null,
   "id": "f5382f8f-bd19-4bd0-8e37-3950174ebb72",
   "metadata": {},
   "outputs": [],
   "source": []
  }
 ],
 "metadata": {
  "kernelspec": {
   "display_name": "Bash",
   "language": "bash",
   "name": "bash"
  },
  "language_info": {
   "codemirror_mode": "shell",
   "file_extension": ".sh",
   "mimetype": "text/x-sh",
   "name": "bash"
  }
 },
 "nbformat": 4,
 "nbformat_minor": 5
}
