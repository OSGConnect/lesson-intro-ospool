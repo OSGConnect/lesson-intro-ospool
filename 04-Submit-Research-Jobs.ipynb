{
 "cells": [
  {
   "cell_type": "markdown",
   "id": "6730741c-ca76-43d0-95f9-95be2460f72e",
   "metadata": {},
   "source": [
    "# Submitting Research Jobs on the OSPool\n"
   ]
  },
  {
   "cell_type": "markdown",
   "id": "5f984d64-3a2a-4006-8626-e252b7798967",
   "metadata": {},
   "source": [
    "## Example: Text Analysis\n",
    "\n",
    "![wc1](images/04-10-wordcount.png)\n",
    "![wc2](images/04-11-wordcount.png)\n",
    "![wc3](images/04-12-wordcount.png)\n",
    "\n",
    "To download the files for this tutorial, run the following command: "
   ]
  },
  {
   "cell_type": "code",
   "execution_count": 3,
   "id": "d157541a-93b3-4a09-a486-4a519cd32b4c",
   "metadata": {},
   "outputs": [
    {
     "name": "stdout",
     "output_type": "stream",
     "text": [
      "Cloning into 'tutorial-wordfreq'...\n",
      "remote: Enumerating objects: 160, done.\u001b[K\n",
      "remote: Counting objects: 100% (160/160), done.\u001b[K\n",
      "remote: Compressing objects: 100% (123/123), done.\u001b[K\n",
      "remote: Total 160 (delta 74), reused 70 (delta 25), pack-reused 0\u001b[K\n",
      "Receiving objects: 100% (160/160), 1.50 MiB | 7.56 MiB/s, done.\n",
      "Resolving deltas: 100% (74/74), done.\n"
     ]
    }
   ],
   "source": [
    "git clone https://github.com/OSGConnect/tutorial-wordfreq"
   ]
  },
  {
   "cell_type": "markdown",
   "id": "2ad1aeb7-7828-419c-bf7c-340f9a664252",
   "metadata": {},
   "source": [
    "Open the [README](tutorial-wordfreq/README.md) and try following it through the \"Analyzing One Book\" section. \n",
    "\n",
    "You should get output like this: \n",
    "\n",
    "* counts.Dracula.tsv\n",
    "* “Standard” output and error\n",
    "    * logs/1234.0.out, logs/1234.0.err\n",
    "    * Look here for errors and messages!\n",
    "* HTCondor Log\n",
    "    * logs/1234.0.log\n",
    "    * Gives information about how long the job ran, and number of CPUs, memory, disk used\n",
    "\n",
    "### HTCondor Reference Table\n",
    "\n",
    "![ref-table](images/04-20-htcondor-ref.png)\n"
   ]
  },
  {
   "cell_type": "markdown",
   "id": "e05bef0a-4ac3-4650-9fc7-ec102daa344a",
   "metadata": {},
   "source": [
    "## Submitting Multiple Jobs\n",
    "\n",
    "![multijob](images/04-30-multijob.png)\n",
    "![multijob1](images/04-31-multijob.png)\n",
    "![multijob2](images/04-32-multijob.png)\n",
    "![multijob3](images/04-33-multijob.png)\n",
    "\n",
    "Go back to the [README](tutorial-wordfreq/README.md) and try running the section on \"Analyzing Multiple Books.\"\n",
    "\n",
    "### Queue Options\n",
    "\n",
    "![queue-table](images/04-40-queue-ref.png)\n"
   ]
  },
  {
   "cell_type": "markdown",
   "id": "6dc7ec91-d861-4776-9cec-70099b857ece",
   "metadata": {},
   "source": [
    "## Planning Ahead\n",
    "\n",
    "The OSPool is a diverse system, running big workloads! Issues do crop up. Once you have one job running, think about: \n",
    "\n",
    "* Testing before submitting a large batch of jobs\n",
    "    * Identify problems early.\n",
    "    * Use resources more efficiently. \n",
    "* Think about scale\n",
    "    * How much space do you need for input/output? \n",
    "    * Use options to control pace of job submission. \n",
    "* While running\n",
    "    * Have ways to monitor your jobs, catch failures. \n"
   ]
  },
  {
   "cell_type": "markdown",
   "id": "f3c67177-0ecf-4961-819a-338acd9f2e11",
   "metadata": {},
   "source": [
    "---\n",
    "\n",
    "[Next Lesson: Next Steps](05-Next-Steps.ipynb)"
   ]
  },
  {
   "cell_type": "code",
   "execution_count": null,
   "id": "f73e4be0-c320-4702-a358-23d90914fc4e",
   "metadata": {},
   "outputs": [],
   "source": []
  }
 ],
 "metadata": {
  "kernelspec": {
   "display_name": "Bash",
   "language": "bash",
   "name": "bash"
  },
  "language_info": {
   "codemirror_mode": "shell",
   "file_extension": ".sh",
   "mimetype": "text/x-sh",
   "name": "bash"
  }
 },
 "nbformat": 4,
 "nbformat_minor": 5
}
